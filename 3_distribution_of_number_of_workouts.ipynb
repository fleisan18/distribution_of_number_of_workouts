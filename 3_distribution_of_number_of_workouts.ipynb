{
 "cells": [
  {
   "cell_type": "code",
   "execution_count": null,
   "metadata": {
    "id": "NzlFAhMNwp3h"
   },
   "outputs": [],
   "source": [
    "import pandas as pd\n",
    "import matplotlib.pyplot as plt"
   ]
  },
  {
   "cell_type": "code",
   "execution_count": null,
   "metadata": {
    "id": "Im7-w08nwp3i"
   },
   "outputs": [],
   "source": [
    "workouts = pd.read_csv('workouts.csv', parse_dates=['start_at']) \n",
    "\n",
    "users = pd.read_excel('users.xlsx') # подключимся к данным по клиентам"
   ]
  },
  {
   "cell_type": "markdown",
   "metadata": {
    "id": "QbhKbauswp3i"
   },
   "source": [
    "Создадим новый датафрейм, в котором соединены уроки и пользователи"
   ]
  },
  {
   "cell_type": "code",
   "execution_count": null,
   "metadata": {
    "id": "tpHcznx-wp3j"
   },
   "outputs": [],
   "source": [
    "workouts_users =  pd.merge(workouts, \n",
    "                           users, \n",
    "                           how='left',                      \n",
    "                           left_on='client_id', \n",
    "                           right_on='user_id')"
   ]
  },
  {
   "cell_type": "code",
   "execution_count": 4,
   "metadata": {
    "id": "AZxq6ufuwp3j"
   },
   "outputs": [],
   "source": [
    "payments = pd.read_excel('payments.xlsx') # подключимся к данным по оплатам\n",
    "\n",
    "marketing = pd.read_excel('marketing.xlsx') # подключимся к данным маркетинга"
   ]
  },
  {
   "cell_type": "markdown",
   "metadata": {
    "id": "z_lUrwGIwp4F"
   },
   "source": [
    "### Задача\n",
    "\n",
    "Мы хотим исследовать динамику общего количества тренировок в течение года по неделям."
   ]
  },
  {
   "cell_type": "markdown",
   "metadata": {
    "id": "Qky7vym7wp4F"
   },
   "source": [
    "__Подготовим данные__\n",
    "\n",
    "Нужно сгруппировать данные по неделям и посчитать количество тренировок в каждой неделе. \n",
    "\n",
    "Для этого используем функцию `resample()` — она сделает по столбцу с датой группировку любой гранулярности (год, месяц, неделя и т.д.) без `groupby()`.\n",
    "\n",
    "Мы сгруппируем данные по 1 неделе и посчитаем количество тренировок функцией `count()`."
   ]
  },
  {
   "cell_type": "code",
   "execution_count": 5,
   "metadata": {
    "id": "Zm6y6RkMwp4F",
    "outputId": "c0167640-b3fc-402b-9781-1bc6051ce1ff"
   },
   "outputs": [
    {
     "data": {
      "text/plain": [
       "start_at\n",
       "2020-01-05      24\n",
       "2020-01-12     122\n",
       "2020-01-19     270\n",
       "2020-01-26     427\n",
       "2020-02-02     571\n",
       "2020-02-09     795\n",
       "2020-02-16     959\n",
       "2020-02-23    1075\n",
       "2020-03-01    1241\n",
       "2020-03-08    1339\n",
       "Freq: W-SUN, Name: workout_id, dtype: int64"
      ]
     },
     "execution_count": 5,
     "metadata": {},
     "output_type": "execute_result"
    }
   ],
   "source": [
    "# записываем новый датасет с количеством тренировок по неделям\n",
    "workouts_byweek = workouts.resample('W', on='start_at')['workout_id'].count() \n",
    "\n",
    "#выведем первые 10 элементов\n",
    "workouts_byweek.head(10)"
   ]
  },
  {
   "cell_type": "code",
   "execution_count": 6,
   "metadata": {
    "id": "l4l0TKD5wp4G",
    "outputId": "8b591b16-91c7-4b2e-fed0-3f22e38cf754",
    "scrolled": true
   },
   "outputs": [
    {
     "data": {
      "image/png": "[encoded data removed]",
      "text/plain": [
       "<Figure size 720x360 with 1 Axes>"
      ]
     },
     "metadata": {
      "needs_background": "light"
     },
     "output_type": "display_data"
    }
   ],
   "source": [
    "plt.figure(figsize=(10, 5)) # размерность\n",
    "plt.title('Распределение количества тренировок по неделям') \n",
    "plt.xlabel('Дата') \n",
    "plt.ylabel('Количество тренировок') \n",
    "plt.grid() # сетка\n",
    "\n",
    "#передаем в функцию 1 аргумент, поэтому по оси X - будет индекс - это дата\n",
    "\n",
    "plt.plot(workouts_byweek) #количество тренировок в каждую неделю \n",
    "plt.show()"
   ]
  },
  {
   "cell_type": "markdown",
   "metadata": {
    "id": "65kUeum7wp4G"
   },
   "source": [
    "Мы видим, что в последнем месяце количество тренировок меньше. Скорее всего, это происходит потому, что месяц еще не закончился."
   ]
  },
  {
   "cell_type": "code",
   "execution_count": 7,
   "metadata": {
    "id": "8tV8vZEHwp4H",
    "outputId": "cdb912c8-0e9c-4219-a5a6-ed8b5ba51125"
   },
   "outputs": [
    {
     "data": {
      "text/plain": [
       "start_at\n",
       "2020-11-15    2731\n",
       "2020-11-22    2753\n",
       "2020-11-29    2777\n",
       "2020-12-06    2732\n",
       "2020-12-13     454\n",
       "Freq: W-SUN, Name: workout_id, dtype: int64"
      ]
     },
     "execution_count": 7,
     "metadata": {},
     "output_type": "execute_result"
    }
   ],
   "source": [
    "workouts_byweek.tail()"
   ]
  },
  {
   "cell_type": "code",
   "execution_count": 8,
   "metadata": {
    "id": "ypsR-Eavwp4I",
    "outputId": "acfd20ba-97e3-490b-af83-d5480b1795dd"
   },
   "outputs": [
    {
     "data": {
      "text/plain": [
       "start_at\n",
       "2020-11-08    2700\n",
       "2020-11-15    2731\n",
       "2020-11-22    2753\n",
       "2020-11-29    2777\n",
       "2020-12-06    2732\n",
       "Freq: W-SUN, Name: workout_id, dtype: int64"
      ]
     },
     "execution_count": 8,
     "metadata": {},
     "output_type": "execute_result"
    }
   ],
   "source": [
    "workouts_byweek.iloc[:-1].tail() # берем все элементы, кроме последнего"
   ]
  },
  {
   "cell_type": "markdown",
   "metadata": {
    "id": "74C0P_40wp4I"
   },
   "source": [
    "Можем задать толщину линии, передав функции `plot()` аргумент `linewidth` и присвоив ему значение.\n",
    "\n",
    "По умолчанию толщина равна 1."
   ]
  },
  {
   "cell_type": "code",
   "execution_count": 34,
   "metadata": {
    "id": "7EOWzbcRwp4J",
    "outputId": "d014302b-0ffc-438e-dc6c-dd3dbc38041a"
   },
   "outputs": [
    {
     "data": {
      "image/png": "[encoded data removed]",
      "text/plain": [
       "<Figure size 720x360 with 1 Axes>"
      ]
     },
     "metadata": {
      "needs_background": "light"
     },
     "output_type": "display_data"
    }
   ],
   "source": [
    "plt.figure(figsize=(10, 5))  \n",
    "plt.title('Распределение количества тренировок по неделям') \n",
    "plt.xlabel('Дата') \n",
    "plt.ylabel('Количество тренировок') \n",
    "plt.grid() \n",
    " \n",
    "plt.plot(workouts_byweek.iloc[:-1],linewidth=4) #linewidth - это толщина линии \n",
    "plt.show()"
   ]
  },
  {
   "cell_type": "markdown",
   "metadata": {
    "id": "bR6Ax2iFwp4J"
   },
   "source": [
    "График показывает динамику количества тренировок. Замечаем, что в летний сезон есть определенный спад тренировок. Чтобы это было лучше видно, выделим сезоны разными цветами. \n",
    "\n",
    "### Разные цвета на линейный график"
   ]
  },
  {
   "cell_type": "markdown",
   "metadata": {
    "id": "U9vyptYrwp4K"
   },
   "source": [
    "Так как мы хотим, чтобы цвет точек отличался от сезона к сезону, напишем функцию, которая поможет нам маркировать сезоны. Она будет принимать на вход дату и возвращать название сезона."
   ]
  },
  {
   "cell_type": "code",
   "execution_count": 9,
   "metadata": {
    "id": "Y1XJQ4M4wp4K"
   },
   "outputs": [],
   "source": [
    "def get_season(date):\n",
    "    month = date.month # вытащим номер месяца из даты \n",
    "   \n",
    "    if month in (3,4,5): \n",
    "        return 'Весна'\n",
    "    elif month in (6,7,8):\n",
    "        return 'Лето'\n",
    "    elif month in (9,10,11):\n",
    "        return 'Осень'\n",
    "    else:         # остальные месяцы - месяцы зимы\n",
    "        return 'Зима'"
   ]
  },
  {
   "cell_type": "markdown",
   "metadata": {
    "id": "kltBm7-Kwp4M"
   },
   "source": [
    "Создадим новый датафрейм и сбросим индекс с помощью `reset_index()`, чтобы дата стала отдельной колонкой"
   ]
  },
  {
   "cell_type": "code",
   "execution_count": 10,
   "metadata": {
    "id": "p6vbhSPhwp4M"
   },
   "outputs": [],
   "source": [
    "workouts_byweek_seasons = workouts_byweek.reset_index().iloc[:-1] # берем строки кроме последней"
   ]
  },
  {
   "cell_type": "markdown",
   "metadata": {
    "id": "P98kLA5Ewp4N"
   },
   "source": [
    "Применим функцию к дате и запишем в новую колонку `season`"
   ]
  },
  {
   "cell_type": "code",
   "execution_count": 11,
   "metadata": {
    "id": "NPybUuKbwp4N"
   },
   "outputs": [],
   "source": [
    "workouts_byweek_seasons['season'] = workouts_byweek_seasons['start_at'].apply(get_season)\n"
   ]
  },
  {
   "cell_type": "code",
   "execution_count": 13,
   "metadata": {
    "id": "vz-YNA4Awp4O",
    "outputId": "e703795d-e3a5-49d5-edec-7d7e6292bb02"
   },
   "outputs": [
    {
     "data": {
      "text/html": [
       "<div>\n",
       "<style scoped>\n",
       "    .dataframe tbody tr th:only-of-type {\n",
       "        vertical-align: middle;\n",
       "    }\n",
       "\n",
       "    .dataframe tbody tr th {\n",
       "        vertical-align: top;\n",
       "    }\n",
       "\n",
       "    .dataframe thead th {\n",
       "        text-align: right;\n",
       "    }\n",
       "</style>\n",
       "<table border=\"1\" class=\"dataframe\">\n",
       "  <thead>\n",
       "    <tr style=\"text-align: right;\">\n",
       "      <th></th>\n",
       "      <th>start_at</th>\n",
       "      <th>workout_id</th>\n",
       "      <th>season</th>\n",
       "    </tr>\n",
       "  </thead>\n",
       "  <tbody>\n",
       "    <tr>\n",
       "      <th>0</th>\n",
       "      <td>2020-01-05</td>\n",
       "      <td>24</td>\n",
       "      <td>Зима</td>\n",
       "    </tr>\n",
       "    <tr>\n",
       "      <th>1</th>\n",
       "      <td>2020-01-12</td>\n",
       "      <td>122</td>\n",
       "      <td>Зима</td>\n",
       "    </tr>\n",
       "    <tr>\n",
       "      <th>2</th>\n",
       "      <td>2020-01-19</td>\n",
       "      <td>270</td>\n",
       "      <td>Зима</td>\n",
       "    </tr>\n",
       "    <tr>\n",
       "      <th>3</th>\n",
       "      <td>2020-01-26</td>\n",
       "      <td>427</td>\n",
       "      <td>Зима</td>\n",
       "    </tr>\n",
       "    <tr>\n",
       "      <th>4</th>\n",
       "      <td>2020-02-02</td>\n",
       "      <td>571</td>\n",
       "      <td>Зима</td>\n",
       "    </tr>\n",
       "  </tbody>\n",
       "</table>\n",
       "</div>"
      ],
      "text/plain": [
       "    start_at  workout_id season\n",
       "0 2020-01-05          24   Зима\n",
       "1 2020-01-12         122   Зима\n",
       "2 2020-01-19         270   Зима\n",
       "3 2020-01-26         427   Зима\n",
       "4 2020-02-02         571   Зима"
      ]
     },
     "execution_count": 13,
     "metadata": {},
     "output_type": "execute_result"
    }
   ],
   "source": [
    "workouts_byweek_seasons.head()"
   ]
  },
  {
   "cell_type": "code",
   "execution_count": 14,
   "metadata": {
    "id": "sULAYu5qwp4P"
   },
   "outputs": [],
   "source": [
    "colors_seasons = {'Зима':'b',\n",
    "                  'Осень':'r', \n",
    "                  'Лето':'g', \n",
    "                  'Весна':'y'} # зададим цвет для каждого сезона"
   ]
  },
  {
   "cell_type": "code",
   "execution_count": 15,
   "metadata": {
    "id": "jkZY8ogNwp4R",
    "outputId": "7c719397-ed83-4448-986d-431a5db9f96b"
   },
   "outputs": [
    {
     "data": {
      "image/png": "[encoded data removed]",
      "text/plain": [
       "<Figure size 720x360 with 1 Axes>"
      ]
     },
     "metadata": {
      "needs_background": "light"
     },
     "output_type": "display_data"
    }
   ],
   "source": [
    "plt.figure(figsize=(10, 5))  \n",
    "plt.title('Распределение количества тренировок по неделям') \n",
    "plt.xlabel('Дата') \n",
    "plt.ylabel('Количество тренировок') \n",
    "plt.grid() \n",
    "\n",
    "#передаем в функцию 2 аргумента, по оси X о дата, а по оси Y - количество тренировок \n",
    "plt.plot(workouts_byweek_seasons['start_at'],\n",
    "         workouts_byweek_seasons['workout_id'],\n",
    "         linewidth=1) #linewidth - это толщина линии \n",
    "\n",
    "#Используем заданные цвета для отрисовки точек на графике\n",
    "plt.scatter(\n",
    "    workouts_byweek_seasons.start_at, # ось OX \n",
    "    workouts_byweek_seasons.workout_id, # ось OY\n",
    "    c = workouts_byweek_seasons['season'].map(colors_seasons) # задаем цвета точек\n",
    ")\n",
    "\n",
    "\n",
    "plt.show()"
   ]
  },
  {
   "cell_type": "markdown",
   "metadata": {
    "id": "bCDvw2h2wp4S"
   },
   "source": [
    "Видно, что летом наблюдается спад количества тренировок. И при этом число тренировок растет на протяжении остальных трех сезонов."
   ]
  }
 ],
 "metadata": {
  "colab": {
   "name": "Python_3.1_lesson.ipynb",
   "provenance": []
  },
  "kernelspec": {
   "display_name": "Python 3 (ipykernel)",
   "language": "python",
   "name": "python3"
  },
  "language_info": {
   "codemirror_mode": {
    "name": "ipython",
    "version": 3
   },
   "file_extension": ".py",
   "mimetype": "text/x-python",
   "name": "python",
   "nbconvert_exporter": "python",
   "pygments_lexer": "ipython3",
   "version": "3.9.13"
  }
 },
 "nbformat": 4,
 "nbformat_minor": 1
}
